{
 "cells": [
  {
   "cell_type": "markdown",
   "metadata": {},
   "source": [
    "# Exercise 2.4 - Nonstationary Greedy"
   ]
  },
  {
   "cell_type": "markdown",
   "metadata": {},
   "source": [
    "The goal of this task is to create a nonstationary 10-armed bandit problem and to see how two different epsilon-greedy algorithms with epsilon = 0.1 perform, where the first algorithm has an adaptive step-size (1/n_a) and the second algorithm has a constant step-size. Adaptive step-size means that whenever I take action a, the n_a for this action increases and thus the update becomes smaller(because 1/n_a decreases) \n",
    "\n",
    "We have 10 arms, where each one's action values q*(a) was drawn i.i.d from a normal distribution with mean 0 and variance 1. When we then select an action A_t the reward is calculated from a normal distribution with mean q*(A_t) and variance 1. After each step(so after each time that we chose an action) we update the values of all arms. With a probability of 0.5 we increase them by 0.1 and with probability 0.5 we decrease them by 0.1(random walk). \n",
    "\n",
    "Note: As preliminary task to make sure that the code really works as requested, I will compare the epsilon-greedy algorithm with epsilon = 0.1 and 0 on a stationary task. "
   ]
  },
  {
   "cell_type": "code",
   "execution_count": 34,
   "metadata": {
    "collapsed": true
   },
   "outputs": [],
   "source": [
    "import numpy as np\n",
    "import matplotlib.pyplot as plt"
   ]
  },
  {
   "cell_type": "markdown",
   "metadata": {},
   "source": [
    "##  Epsilon-greedy comparison (stationary)"
   ]
  },
  {
   "cell_type": "markdown",
   "metadata": {},
   "source": [
    "We start of by having a first little experiment where we want to compare the performance of the epsilon greedy algorithm with epsilon = 0.1 and epsilon = 0 on a stationary problem. Note that here we use adaptive stepsize."
   ]
  },
  {
   "cell_type": "markdown",
   "metadata": {},
   "source": [
    "### Epsilon = 0 "
   ]
  },
  {
   "cell_type": "code",
   "execution_count": 35,
   "metadata": {},
   "outputs": [],
   "source": [
    "# initialize data structures\n",
    "action_values = np.zeros(10)\n",
    "initial_action_values = np.zeros(10)\n",
    "action_values_count = np.ones(10)\n",
    "average_rewards1 = np.zeros(1000)\n",
    "\n",
    "\n",
    "total_reward = 0\n",
    "\n",
    "# number of loop iterations \n",
    "a = 1\n",
    "b = 2000\n",
    "\n",
    "# initialize action_values with normal distribution around 0 and variance 1\n",
    "for i in range(0,10): \n",
    "    initial_action_values[i] = np.random.normal(0,1,1)\n",
    "\n",
    "#######################################################\n",
    "\n",
    "# implement greedy learning algorithm with non-changing rewards(stationarity) and we do a thousand steps \n",
    "for z in range(a,b):\n",
    "    for i in range(0,1000):\n",
    "        epsilon = np.random.choice(2, 1, p=[0.0, 1.0])\n",
    "\n",
    "        # we exploit\n",
    "        if(epsilon[0] == 1): \n",
    "            # find maximal action value and take index\n",
    "            max_index = np.argmax(action_values)\n",
    "            # get reward of arm with index calculated above\n",
    "            max_reward = np.random.normal(initial_action_values[max_index],1,1)\n",
    "            #print(\"z: \",z,\" i: \",i ,\"taking arm\", max_index, \"Max_reward: \", max_reward)\n",
    "            # update the \"value\" of the arm we chose chose\n",
    "            action_values[max_index] = action_values[max_index] + (1.0/action_values_count[max_index])*(max_reward - action_values[max_index])\n",
    "            total_reward += max_reward\n",
    "            action_values_count[max_index] +=1\n",
    "            \n",
    "            #lets iteratively calculate the mean of the rewards in each timestep of 1000 timesteps\n",
    "            # repeated over 2000 rounds\n",
    "            average_rewards1[i] = average_rewards1[i] + (1.0/z)*(max_reward-average_rewards1[i])\n",
    "            \n",
    "        # we explore        \n",
    "        else: \n",
    "            k = np.random.choice(10, 1)\n",
    "            action = initial_action_values[k]\n",
    "            reward = np.random.normal(action,1,1)\n",
    "            #print(\"z: \",z,\" i: \",i ,\"reward: \", reward)\n",
    "            action_values[k] = action_values[k] + (1.0/action_values_count[k])*(reward - action_values[k])\n",
    "            total_reward += reward\n",
    "            action_values_count[k] +=1\n",
    "            \n",
    "            #lets iteratively calculate the mean of the rewards in each timestep of 1000 timesteps\n",
    "            # repeated over 2000 rounds\n",
    "            average_rewards1[i] = average_rewards1[i] + (1.0/z)*(reward-average_rewards1[i])\n",
    "            \n",
    "        max_action = 0\n",
    "                \n",
    "    # re-initialize action_values with normal distribution around 0 and variance 1 after each one of the 2000 rounds\n",
    "    for l in range(0,10): \n",
    "        initial_action_values[l] = np.random.normal(0,1,1)\n",
    "    action_values = np.zeros(10)\n",
    "    # re-initialize action_values_counts\n",
    "    action_values_count = np.ones(10)\n",
    " "
   ]
  },
  {
   "cell_type": "markdown",
   "metadata": {},
   "source": [
    "### Epsilon = 0.1"
   ]
  },
  {
   "cell_type": "code",
   "execution_count": 36,
   "metadata": {},
   "outputs": [
    {
     "name": "stdout",
     "output_type": "stream",
     "text": [
      "[ 0.  0.  0.  0.  0.  0.  0.  0.  0.  0.]\n"
     ]
    }
   ],
   "source": [
    "# initialize data structures\n",
    "action_values = np.zeros(10)\n",
    "action_values_count = np.ones(10)\n",
    "initial_action_values = np.zeros(10)\n",
    "average_rewards2 = np.zeros(1000)\n",
    "total_reward2 = 0\n",
    "max_action = 0\n",
    "\n",
    "print(initial_action_values)\n",
    "# number of loop iterations \n",
    "a = 1\n",
    "b = 2000\n",
    "\n",
    "# initialize action_values with normal distribution around 0 and variance 1\n",
    "for i in range(0,10): \n",
    "    initial_action_values[i] = np.random.normal(0,1,1)\n",
    "    \n",
    "#######################################################\n",
    "\n",
    "# implement greedy learning algorithm with non-changing rewards(stationarity) and we do a thousand steps \n",
    "for z in range(a,b):\n",
    "    for i in range(0,1000):\n",
    "        epsilon = np.random.choice(2, 1, p=[0.1, 0.9])\n",
    "\n",
    "        # we exploit\n",
    "        if(epsilon[0] == 1): \n",
    "            #find maximal action value \n",
    "            max_index = np.argmax(action_values)\n",
    "            max_reward = np.random.normal(initial_action_values[max_index],1,1)\n",
    "            #print(\"z: \",z,\" i: \",i ,\"taking arm\", max_index, \"Max_reward: \", max_reward)\n",
    "            action_values[max_index] = action_values[max_index] + (1.0/action_values_count[max_index])*(max_reward - action_values[max_index])\n",
    "            total_reward2 += max_reward\n",
    "            action_values_count[max_index] +=1\n",
    "            \n",
    "            #lets iteratively calculate the mean of the rewards in each timestep of 1000 timesteps\n",
    "            # repeated over 2000 rounds\n",
    "            average_rewards2[i] = average_rewards2[i] + (1.0/z)*(max_reward-average_rewards2[i])\n",
    "            \n",
    "        # we explore        \n",
    "        else: \n",
    "            k = np.random.choice(10, 1)\n",
    "            action = initial_action_values[k]\n",
    "            reward = np.random.normal(action,1,1)\n",
    "            #print(\"z: \",z,\" i: \",i ,\"reward: \", reward)\n",
    "            action_values[k] = action_values[k] + (1.0/action_values_count[k])*(reward - action_values[k])\n",
    "            total_reward2 += reward\n",
    "            action_values_count[k] +=1\n",
    "            \n",
    "            #lets iteratively calculate the mean of the rewards in each timestep of 1000 timesteps\n",
    "            # repeated over 2000 rounds\n",
    "            average_rewards2[i] = average_rewards2[i] + (1.0/z)*(reward-average_rewards2[i])\n",
    "            \n",
    "        max_action = 0\n",
    "                \n",
    "    # re-initialize action_values with normal distribution around 0 and variance 1 after each one of the 2000 rounds\n",
    "    for l in range(0,10): \n",
    "        initial_action_values[l] = np.random.normal(0,1,1)\n",
    "    action_values = np.zeros(10)\n",
    "    # re-initialize action_values_counts\n",
    "    action_values_count = np.ones(10)\n",
    " "
   ]
  },
  {
   "cell_type": "code",
   "execution_count": 37,
   "metadata": {},
   "outputs": [
    {
     "name": "stdout",
     "output_type": "stream",
     "text": [
      "Epsilon = 0 has total average reward of:  [ 1025.71326373]\n",
      "Epsilon = 0.1 has total average reward of:  [ 1298.83485407]\n"
     ]
    },
    {
     "data": {
      "image/png": "[encoded data removed]",
      "text/plain": [
       "<matplotlib.figure.Figure at 0x1098dc6d8>"
      ]
     },
     "metadata": {},
     "output_type": "display_data"
    }
   ],
   "source": [
    "# plot stuff and yield results \n",
    "total_reward = total_reward/b\n",
    "total_reward2 = total_reward2/b\n",
    "print(\"Epsilon = 0 has total average reward of: \", total_reward)\n",
    "print(\"Epsilon = 0.1 has total average reward of: \", total_reward2)\n",
    "\n",
    "x_axis = np.arange(0,1000)\n",
    "plt.xlabel('steps')\n",
    "plt.ylabel('average rewards')\n",
    "plt.plot(x_axis, average_rewards1,'r.', x_axis, average_rewards2,'b.')\n",
    "plt.show()"
   ]
  },
  {
   "cell_type": "markdown",
   "metadata": {},
   "source": [
    "## Stepsize comparison (stationary)"
   ]
  },
  {
   "cell_type": "markdown",
   "metadata": {},
   "source": [
    "Now we start with the real exercise and compare the stepsizes of two epsilon greedy algorithms with epsilon = 0.1\n",
    "In the first case we use a constant step-size and in the second example we use the adaptive stepsize 1/n"
   ]
  },
  {
   "cell_type": "markdown",
   "metadata": {},
   "source": [
    "### Constant stepsize"
   ]
  },
  {
   "cell_type": "code",
   "execution_count": 38,
   "metadata": {},
   "outputs": [
    {
     "name": "stdout",
     "output_type": "stream",
     "text": [
      "[ 0.  0.  0.  0.  0.  0.  0.  0.  0.  0.]\n"
     ]
    }
   ],
   "source": [
    "# initialize data structures\n",
    "action_values = np.zeros(10)\n",
    "action_values_count = np.ones(10)\n",
    "initial_action_values = np.zeros(10)\n",
    "average_rewards1 = np.zeros(1000)\n",
    "total_reward1 = 0\n",
    "max_action = 0\n",
    "\n",
    "print(initial_action_values)\n",
    "# number of loop iterations \n",
    "a = 1\n",
    "b = 2000\n",
    "\n",
    "# initialize action_values with normal distribution around 0 and variance 1\n",
    "for i in range(0,10): \n",
    "    initial_action_values[i] = np.random.normal(0,1,1)\n",
    "    \n",
    "stepsize = 0.1\n",
    "    \n",
    "#######################################################\n",
    "\n",
    "# implement greedy learning algorithm with changing rewards(non-stationarity) and we do a thousand steps \n",
    "for z in range(a,b):\n",
    "    for i in range(0,1000):\n",
    "        epsilon = np.random.choice(2, 1, p=[0.1, 0.9])\n",
    "\n",
    "        # we exploit\n",
    "        if(epsilon[0] == 1): \n",
    "            #find maximal action value \n",
    "            max_index = np.argmax(action_values)\n",
    "            max_reward = np.random.normal(initial_action_values[max_index],1,1)\n",
    "            #print(\"z: \",z,\" i: \",i ,\"taking arm\", max_index, \"Max_reward: \", max_reward)\n",
    "            action_values[max_index] = action_values[max_index] + stepsize*(max_reward - action_values[max_index])\n",
    "            total_reward1 += max_reward\n",
    "            action_values_count[max_index] +=1\n",
    "            \n",
    "            #lets iteratively calculate the mean of the rewards in each timestep of 1000 timesteps\n",
    "            # repeated over 2000 rounds\n",
    "            average_rewards1[i] = average_rewards1[i] + (1.0/z)*(max_reward-average_rewards1[i])\n",
    "            \n",
    "        # we explore        \n",
    "        else: \n",
    "            k = np.random.choice(10, 1)\n",
    "            action = initial_action_values[k]\n",
    "            reward = np.random.normal(action,1,1)\n",
    "            #print(\"z: \",z,\" i: \",i ,\"reward: \", reward)\n",
    "            action_values[k] = action_values[k] + stepsize*(reward - action_values[k])\n",
    "            total_reward1 += reward\n",
    "            action_values_count[k] +=1\n",
    "            \n",
    "            #lets iteratively calculate the mean of the rewards in each timestep of 1000 timesteps\n",
    "            # repeated over 2000 rounds\n",
    "            average_rewards1[i] = average_rewards1[i] + (1.0/z)*(reward-average_rewards1[i])\n",
    "            \n",
    "        max_action = 0\n",
    "                \n",
    "    # re-initialize action_values with normal distribution around 0 and variance 1 after each one of the 2000 rounds\n",
    "    for l in range(0,10): \n",
    "        initial_action_values[l] = np.random.normal(0,1,1)\n",
    "    action_values = np.zeros(10)\n",
    "    # re-initialize action_values_counts\n",
    "    action_values_count = np.ones(10)\n",
    " "
   ]
  },
  {
   "cell_type": "markdown",
   "metadata": {},
   "source": [
    "### Changing stepsize"
   ]
  },
  {
   "cell_type": "code",
   "execution_count": 39,
   "metadata": {},
   "outputs": [
    {
     "name": "stdout",
     "output_type": "stream",
     "text": [
      "[ 0.  0.  0.  0.  0.  0.  0.  0.  0.  0.]\n"
     ]
    }
   ],
   "source": [
    "# initialize data structures\n",
    "action_values = np.zeros(10)\n",
    "action_values_count = np.ones(10)\n",
    "initial_action_values = np.zeros(10)\n",
    "average_rewards2 = np.zeros(1000)\n",
    "total_reward2 = 0\n",
    "max_action = 0\n",
    "\n",
    "print(initial_action_values)\n",
    "# number of loop iterations \n",
    "a = 1\n",
    "b = 2000\n",
    "\n",
    "# initialize action_values with normal distribution around 0 and variance 1\n",
    "for i in range(0,10): \n",
    "    initial_action_values[i] = np.random.normal(0,1,1)\n",
    "    \n",
    "#######################################################\n",
    "\n",
    "# implement greedy learning algorithm with non-changing rewards(stationarity) and we do a thousand steps \n",
    "for z in range(a,b):\n",
    "    for i in range(0,1000):\n",
    "        epsilon = np.random.choice(2, 1, p=[0.1, 0.9])\n",
    "\n",
    "        # we exploit\n",
    "        if(epsilon[0] == 1): \n",
    "            #find maximal action value \n",
    "            max_index = np.argmax(action_values)\n",
    "            max_reward = np.random.normal(initial_action_values[max_index],1,1)\n",
    "            #print(\"z: \",z,\" i: \",i ,\"taking arm\", max_index, \"Max_reward: \", max_reward)\n",
    "            action_values[max_index] = action_values[max_index] + (1.0/action_values_count[max_index])*(max_reward - action_values[max_index])\n",
    "            total_reward2 += max_reward\n",
    "            action_values_count[max_index] +=1\n",
    "            \n",
    "            #lets iteratively calculate the mean of the rewards in each timestep of 1000 timesteps\n",
    "            # repeated over 2000 rounds\n",
    "            average_rewards2[i] = average_rewards2[i] + (1.0/z)*(max_reward-average_rewards2[i])\n",
    "            \n",
    "        # we explore        \n",
    "        else: \n",
    "            k = np.random.choice(10, 1)\n",
    "            action = initial_action_values[k]\n",
    "            reward = np.random.normal(action,1,1)\n",
    "            #print(\"z: \",z,\" i: \",i ,\"reward: \", reward)\n",
    "            action_values[k] = action_values[k] + (1.0/action_values_count[k])*(reward - action_values[k])\n",
    "            total_reward2 += reward\n",
    "            action_values_count[k] +=1\n",
    "            \n",
    "            #lets iteratively calculate the mean of the rewards in each timestep of 1000 timesteps\n",
    "            # repeated over 2000 rounds\n",
    "            average_rewards2[i] = average_rewards2[i] + (1.0/z)*(reward-average_rewards2[i])\n",
    "            \n",
    "        max_action = 0\n",
    "                \n",
    "    # re-initialize action_values with normal distribution around 0 and variance 1 after each one of the 2000 rounds\n",
    "    for l in range(0,10): \n",
    "        initial_action_values[l] = np.random.normal(0,1,1)\n",
    "    action_values = np.zeros(10)\n",
    "    # re-initialize action_values_counts\n",
    "    action_values_count = np.ones(10)\n",
    " "
   ]
  },
  {
   "cell_type": "code",
   "execution_count": 40,
   "metadata": {},
   "outputs": [
    {
     "name": "stdout",
     "output_type": "stream",
     "text": [
      "Constant stepsize has has total average reward of:  [ 1243.36718491]\n",
      "Changing stepsize has total average reward of:  [ 1318.59103669]\n"
     ]
    },
    {
     "data": {
      "image/png": "[encoded data removed]",
      "text/plain": [
       "<matplotlib.figure.Figure at 0x1098e3c18>"
      ]
     },
     "metadata": {},
     "output_type": "display_data"
    }
   ],
   "source": [
    "# plot stuff and yield results \n",
    "total_reward1 = total_reward1/b\n",
    "total_reward2 = total_reward2/b\n",
    "print(\"Constant stepsize has has total average reward of: \", total_reward1)\n",
    "print(\"Changing stepsize has total average reward of: \", total_reward2)\n",
    "\n",
    "x_axis = np.arange(0,1000)\n",
    "plt.xlabel('steps')\n",
    "plt.ylabel('average rewards')\n",
    "plt.plot(x_axis, average_rewards1,'r.', x_axis, average_rewards2,'b.')\n",
    "plt.show()"
   ]
  },
  {
   "cell_type": "markdown",
   "metadata": {},
   "source": [
    "## Step-size comparison(non-stationary)"
   ]
  },
  {
   "cell_type": "markdown",
   "metadata": {},
   "source": [
    "### Constant stepsize"
   ]
  },
  {
   "cell_type": "code",
   "execution_count": 41,
   "metadata": {},
   "outputs": [
    {
     "name": "stdout",
     "output_type": "stream",
     "text": [
      "[ 0.  0.  0.  0.  0.  0.  0.  0.  0.  0.]\n"
     ]
    }
   ],
   "source": [
    "# initialize data structures\n",
    "action_values = np.zeros(10)\n",
    "action_values_count = np.ones(10)\n",
    "initial_action_values = np.zeros(10)\n",
    "average_rewards1 = np.zeros(1000)\n",
    "total_reward1 = 0\n",
    "max_action = 0\n",
    "\n",
    "print(initial_action_values)\n",
    "# number of loop iterations \n",
    "a = 1\n",
    "b = 1000\n",
    "\n",
    "# initialize action_values with normal distribution around 0 and variance 1\n",
    "for i in range(0,10): \n",
    "    initial_action_values[i] = np.random.normal(0,1,1)\n",
    "    \n",
    "stepsize = 0.1\n",
    "    \n",
    "#######################################################\n",
    "\n",
    "# implement greedy learning algorithm with changing rewards(non-stationarity) and we do a thousand steps \n",
    "for z in range(a,b):\n",
    "    for i in range(0,1000):\n",
    "        epsilon = np.random.choice(2, 1, p=[0.1, 0.9])\n",
    "\n",
    "        # we exploit\n",
    "        if(epsilon[0] == 1): \n",
    "            #find maximal action value \n",
    "            max_index = np.argmax(action_values)\n",
    "            max_reward = np.random.normal(initial_action_values[max_index],1,1)\n",
    "            #print(\"z: \",z,\" i: \",i ,\"taking arm\", max_index, \"Max_reward: \", max_reward)\n",
    "            action_values[max_index] = action_values[max_index] + stepsize*(max_reward - action_values[max_index])\n",
    "            total_reward1 += max_reward\n",
    "            action_values_count[max_index] +=1\n",
    "            \n",
    "            #lets iteratively calculate the mean of the rewards in each timestep of 1000 timesteps\n",
    "            # repeated over 2000 rounds\n",
    "            average_rewards1[i] = average_rewards1[i] + (1.0/z)*(max_reward-average_rewards1[i])\n",
    "            \n",
    "        # we explore        \n",
    "        else: \n",
    "            k = np.random.choice(10, 1)\n",
    "            action = initial_action_values[k]\n",
    "            reward = np.random.normal(action,1,1)\n",
    "            #print(\"z: \",z,\" i: \",i ,\"reward: \", reward)\n",
    "            action_values[k] = action_values[k] + stepsize*(reward - action_values[k])\n",
    "            total_reward1 += reward\n",
    "            action_values_count[k] +=1\n",
    "            \n",
    "            #lets iteratively calculate the mean of the rewards in each timestep of 1000 timesteps\n",
    "            # repeated over 2000 rounds\n",
    "            average_rewards1[i] = average_rewards1[i] + (1.0/z)*(reward-average_rewards1[i])\n",
    "            \n",
    "        max_action = 0\n",
    "        \n",
    "        # change the mean rewards of the arms(non-stationarity constraint) -> random walk\n",
    "        for q in range(0,10):\n",
    "            rand = np.random.choice(2,1)\n",
    "            if(rand == 0):\n",
    "                initial_action_values[q] += 0.1\n",
    "            else: \n",
    "                initial_action_values[q] -= 0.1\n",
    "                \n",
    "    # re-initialize action_values with normal distribution around 0 and variance 1 after each one of the 2000 rounds\n",
    "    for l in range(0,10): \n",
    "        initial_action_values[l] = np.random.normal(0,1,1)\n",
    "    action_values = np.zeros(10)\n",
    "    # re-initialize action_values_counts\n",
    "    action_values_count = np.ones(10)\n",
    " "
   ]
  },
  {
   "cell_type": "markdown",
   "metadata": {},
   "source": [
    "### Adaptive stepsize"
   ]
  },
  {
   "cell_type": "code",
   "execution_count": 42,
   "metadata": {},
   "outputs": [
    {
     "name": "stdout",
     "output_type": "stream",
     "text": [
      "[ 0.  0.  0.  0.  0.  0.  0.  0.  0.  0.]\n"
     ]
    }
   ],
   "source": [
    "# initialize data structures\n",
    "action_values = np.zeros(10)\n",
    "action_values_count = np.ones(10)\n",
    "initial_action_values = np.zeros(10)\n",
    "average_rewards2 = np.zeros(1000)\n",
    "total_reward2 = 0\n",
    "max_action = 0\n",
    "\n",
    "print(initial_action_values)\n",
    "# number of loop iterations \n",
    "a = 1\n",
    "b = 1000\n",
    "\n",
    "# initialize action_values with normal distribution around 0 and variance 1\n",
    "for i in range(0,10): \n",
    "    initial_action_values[i] = np.random.normal(0,1,1)\n",
    "    \n",
    "#######################################################\n",
    "\n",
    "# implement greedy learning algorithm with non-changing rewards(stationarity) and we do a thousand steps \n",
    "for z in range(a,b):\n",
    "    for i in range(0,1000):\n",
    "        epsilon = np.random.choice(2, 1, p=[0.1, 0.9])\n",
    "\n",
    "        # we exploit\n",
    "        if(epsilon[0] == 1): \n",
    "            #find maximal action value \n",
    "            max_index = np.argmax(action_values)\n",
    "            max_reward = np.random.normal(initial_action_values[max_index],1,1)\n",
    "            #print(\"z: \",z,\" i: \",i ,\"taking arm\", max_index, \"Max_reward: \", max_reward)\n",
    "            action_values[max_index] = action_values[max_index] + (1.0/action_values_count[max_index])*(max_reward - action_values[max_index])\n",
    "            total_reward2 += max_reward\n",
    "            action_values_count[max_index] +=1\n",
    "            \n",
    "            #lets iteratively calculate the mean of the rewards in each timestep of 1000 timesteps\n",
    "            # repeated over 2000 rounds\n",
    "            average_rewards2[i] = average_rewards2[i] + (1.0/z)*(max_reward-average_rewards2[i])\n",
    "            \n",
    "        # we explore        \n",
    "        else: \n",
    "            k = np.random.choice(10, 1)\n",
    "            action = initial_action_values[k]\n",
    "            reward = np.random.normal(action,1,1)\n",
    "            #print(\"z: \",z,\" i: \",i ,\"reward: \", reward)\n",
    "            action_values[k] = action_values[k] + (1.0/action_values_count[k])*(reward - action_values[k])\n",
    "            total_reward2 += reward\n",
    "            action_values_count[k] +=1\n",
    "            \n",
    "            #lets iteratively calculate the mean of the rewards in each timestep of 1000 timesteps\n",
    "            # repeated over 2000 rounds\n",
    "            average_rewards2[i] = average_rewards2[i] + (1.0/z)*(reward-average_rewards2[i])\n",
    "            \n",
    "        max_action = 0\n",
    "        \n",
    "        # change the mean rewards of the arms(non-stationarity constraint) -> random walk\n",
    "        for q in range(0,10):\n",
    "            rand = np.random.choice(2,1)\n",
    "            if(rand == 0):\n",
    "                initial_action_values[q] += 0.1\n",
    "            else: \n",
    "                initial_action_values[q] -= 0.1\n",
    "                \n",
    "    # re-initialize action_values with normal distribution around 0 and variance 1 after each one of the 2000 rounds\n",
    "    for l in range(0,10): \n",
    "        initial_action_values[l] = np.random.normal(0,1,1)\n",
    "    action_values = np.zeros(10)\n",
    "    # re-initialize action_values_counts\n",
    "    action_values_count = np.ones(10)\n",
    " "
   ]
  },
  {
   "cell_type": "code",
   "execution_count": 43,
   "metadata": {},
   "outputs": [
    {
     "name": "stdout",
     "output_type": "stream",
     "text": [
      "Constant stepsize has has total average reward of:  [ 2676.40577521]\n",
      "Changing stepsize has total average reward of:  [ 2560.74021503]\n"
     ]
    },
    {
     "data": {
      "image/png": "[encoded data removed]",
      "text/plain": [
       "<matplotlib.figure.Figure at 0x109424438>"
      ]
     },
     "metadata": {},
     "output_type": "display_data"
    }
   ],
   "source": [
    "# plot stuff and yield results \n",
    "total_reward1 = total_reward1/b\n",
    "total_reward2 = total_reward2/b\n",
    "print(\"Constant stepsize has has total average reward of: \", total_reward1)\n",
    "print(\"Changing stepsize has total average reward of: \", total_reward2)\n",
    "\n",
    "x_axis = np.arange(0,1000)\n",
    "plt.xlabel('steps')\n",
    "plt.ylabel('average rewards')\n",
    "plt.plot(x_axis, average_rewards1,'r.', x_axis, average_rewards2,'b.')\n",
    "plt.show()"
   ]
  },
  {
   "cell_type": "code",
   "execution_count": null,
   "metadata": {
    "collapsed": true
   },
   "outputs": [],
   "source": []
  }
 ],
 "metadata": {
  "kernelspec": {
   "display_name": "Python 3",
   "language": "python",
   "name": "python3"
  },
  "language_info": {
   "codemirror_mode": {
    "name": "ipython",
    "version": 3
   },
   "file_extension": ".py",
   "mimetype": "text/x-python",
   "name": "python",
   "nbconvert_exporter": "python",
   "pygments_lexer": "ipython3",
   "version": "3.6.2"
  }
 },
 "nbformat": 4,
 "nbformat_minor": 2
}
